{
 "cells": [
  {
   "cell_type": "code",
   "execution_count": 5,
   "metadata": {},
   "outputs": [],
   "source": [
    "!pip install pillow"
   ]
  },
  {
   "cell_type": "code",
   "execution_count": 12,
   "metadata": {},
   "outputs": [],
   "source": [
    "from PIL import Image, ImageDraw"
   ]
  },
  {
   "cell_type": "markdown",
   "metadata": {},
   "source": [
    "Решаем label-placement c двумя возможными расположениями. На вход принимаем список меток. Метка - это четверка чисел, первые две координаты - положение центра прямоугольника, следующие две - его ширина и высота"
   ]
  },
  {
   "cell_type": "code",
   "execution_count": 13,
   "metadata": {},
   "outputs": [],
   "source": [
    "from copy import copy\n",
    "\n",
    "def make_graphs(formula, N):\n",
    "    g = [[] for _ in range(2*N)]\n",
    "    gt = [[] for _ in range(2*N)]\n",
    "    for edge in formula:\n",
    "        v1, v2 = 2*(abs(edge[0]) - 1), 2*(abs(edge[1]) - 1)\n",
    "        add1 = int(edge[0] > 0)\n",
    "        add2 = int(edge[1] < 0)\n",
    "        g[v1+add1].append(v2+add2)\n",
    "        g[v2+((add2 + 1)%2)].append(v1+((add1 + 1)%2))\n",
    "        gt[v2+add2].append(v1+add1)\n",
    "        gt[v1+((add1 + 1)%2)].append(v2+((add2 + 1)%2))\n",
    "    return g, gt\n",
    "\n",
    "class Solver:\n",
    "    def __init__(self, g, gt, n):\n",
    "        self.n = n\n",
    "        self.g = g\n",
    "        self.gt = gt\n",
    "        self.used = [False for _ in range(n)]\n",
    "        self.order, self.comp = [], [-1 for _ in range(n)]\n",
    "        self.result = [False for _ in range(n//2)]\n",
    "\n",
    "    def dfs1(self, v):\n",
    "        self.used[v] = True\n",
    "        for u in self.g[v]:\n",
    "            if not self.used[u]:\n",
    "                self.dfs1(u)\n",
    "        self.order.append(v)\n",
    "\n",
    "    def dfs2(self, v, cl):\n",
    "        self.comp[v] = cl\n",
    "        for u in self.gt[v]:\n",
    "            if self.comp[u] == -1:\n",
    "                self.dfs2(u, cl)\n",
    "\n",
    "    def solve(self):\n",
    "        for i in range(self.n):\n",
    "            if not self.used[i]:\n",
    "                self.dfs1(i)\n",
    "\n",
    "        for i in range(self.n):\n",
    "            v = self.order[self.n - i - 1]\n",
    "            if (self.comp[v] == -1):\n",
    "                self.dfs2(v, i)\n",
    "                i += 1\n",
    "\n",
    "        \n",
    "        for i in range(0, self.n, 2): \n",
    "            if self.comp[i] == self.comp[i + 1]:\n",
    "                return False\n",
    "            self.result[i // 2] = (self.comp[i] > self.comp[i + 1])\n",
    "        return True\n",
    "\n",
    "\n",
    "def is_intersect(l1, l2):\n",
    "    size = 500\n",
    "    def lines_intersect(line1, line2):\n",
    "        return not((line2[0] > line1[1]) or (line1[0] > line2[1]))\n",
    "    \n",
    "    x1_l = [l1[1] - l1[3]/2, l1[1] + l1[3]/2]\n",
    "    x2_l = [l2[1] - l2[3]/2, l2[1] + l2[3]/2]\n",
    "    \n",
    "    y1_l = [l1[0] - l1[2]/2, l1[0] + l1[2]/2]\n",
    "    y2_l = [l2[0] - l2[2]/2, l2[0] + l2[2]/2]\n",
    "    \n",
    "    if x1_l[0] < 0 or x1_l[1] > size or x2_l[0] < 0 or x2_l[1] > size:\n",
    "        return True\n",
    "    \n",
    "    if y1_l[0] < 0 or y1_l[1] > size or y2_l[0] < 0 or y2_l[1] > size:\n",
    "        return True\n",
    "    \n",
    "    return lines_intersect(x1_l, x2_l) and lines_intersect(y1_l, y2_l)\n",
    "\n",
    "def make_formula(labels):\n",
    "    formulas = []\n",
    "    for i in range(len(labels)):\n",
    "        for j in range(i+1, len(labels)):\n",
    "            for k in range(4):\n",
    "                x1, x2 = k % 2, k // 2\n",
    "                l1, l2 = copy(labels[i]), copy(labels[j])\n",
    "                if x1 == 0:\n",
    "                    l1[0] -= l1[2]/2\n",
    "                else:\n",
    "                    l1[0] += l1[2]/2\n",
    "                    \n",
    "                if x2 == 0:\n",
    "                    l2[0] -= l2[2]/2\n",
    "                else:\n",
    "                    l2[0] += l2[2]/2\n",
    "                \n",
    "                if is_intersect(l1, l2):\n",
    "                    mark1, mark2 = i+1, j+1\n",
    "                    if x1 == 1:\n",
    "                        mark1 = -mark1\n",
    "                    if x2 == 1:\n",
    "                        mark2 = -mark2\n",
    "                        \n",
    "                    formulas.append([mark1, mark2])\n",
    "    return formulas\n",
    "\n",
    "def solve_formulas(formulas, n):\n",
    "    g, gt = make_graphs(formulas, n)\n",
    "    solver = Solver(g, gt, 2*n)\n",
    "    if solver.solve():\n",
    "        return solver.result\n",
    "    else:\n",
    "        return None\n",
    "\n",
    "\n",
    "def draw(labels, model):\n",
    "    image = Image.new(\"RGBA\", (500,500), (0,0,0,0))\n",
    "    draw = ImageDraw.Draw(image)\n",
    "    draw.rectangle((0, 0, 499, 499), outline=\"red\")\n",
    "    \n",
    "    for i in range(len(labels)):\n",
    "        l1 = copy(labels[i])\n",
    "        if not model[i]:\n",
    "            l1[0] -= l1[2]/2\n",
    "        else:\n",
    "            l1[0] += l1[2]/2\n",
    "\n",
    "        draw.rectangle((l1[0] - l1[2]/2, l1[1] - l1[3]/2, l1[0] + l1[2]/2, l1[1] + l1[3]/2), outline=\"red\")\n",
    "        draw.ellipse((labels[i][0]-1, labels[i][1]-1, labels[i][0]+1, labels[i][1]+1), fill = 'blue', outline ='blue')\n",
    "    return image"
   ]
  },
  {
   "cell_type": "code",
   "execution_count": 14,
   "metadata": {},
   "outputs": [],
   "source": [
    "def plot_labels(labels):\n",
    "    formulas = make_formula(labels)\n",
    "    model = solve_formulas(formulas, len(labels))\n",
    "    if model is None:\n",
    "        return None\n",
    "    return draw(labels, model)"
   ]
  },
  {
   "cell_type": "markdown",
   "metadata": {},
   "source": [
    "Пример с возможным расположением. Синие точки - центры начального положения лэйблов"
   ]
  },
  {
   "cell_type": "code",
   "execution_count": 15,
   "metadata": {},
   "outputs": [
    {
     "data": {
      "image/png": "[encoded data removed]",
      "text/plain": [
       "<PIL.Image.Image image mode=RGBA size=500x500 at 0x1C441DB3D08>"
      ]
     },
     "execution_count": 15,
     "metadata": {},
     "output_type": "execute_result"
    }
   ],
   "source": [
    "labels = [[250, 250, 30, 20], [250, 300, 30, 20], [260, 250, 30, 20], [5, 100, 30, 20],\n",
    "         [40, 110, 30, 20], [300, 250, 50, 50], [200, 250, 50, 50]]\n",
    "\n",
    "img = plot_labels(labels)\n",
    "img"
   ]
  },
  {
   "cell_type": "code",
   "execution_count": 16,
   "metadata": {},
   "outputs": [],
   "source": [
    "img.save('labels.png')"
   ]
  },
  {
   "cell_type": "markdown",
   "metadata": {},
   "source": [
    "Пример невозможного расположения (два лэйбла и они совпадают)"
   ]
  },
  {
   "cell_type": "code",
   "execution_count": 17,
   "metadata": {},
   "outputs": [
    {
     "name": "stdout",
     "output_type": "stream",
     "text": [
      "None\n"
     ]
    }
   ],
   "source": [
    "labels = [[250, 250, 30, 20], [250, 250, 30, 20]]\n",
    "\n",
    "img = plot_labels(labels)\n",
    "print(img)"
   ]
  },
  {
   "cell_type": "code",
   "execution_count": null,
   "metadata": {},
   "outputs": [],
   "source": []
  }
 ],
 "metadata": {
  "kernelspec": {
   "display_name": "Python 3",
   "language": "python",
   "name": "python3"
  }
 },
 "nbformat": 4,
 "nbformat_minor": 4
}
